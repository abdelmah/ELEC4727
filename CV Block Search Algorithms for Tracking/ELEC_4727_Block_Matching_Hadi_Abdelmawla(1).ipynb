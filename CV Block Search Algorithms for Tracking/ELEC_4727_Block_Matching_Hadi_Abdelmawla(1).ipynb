{
 "cells": [
  {
   "cell_type": "code",
   "execution_count": null,
   "metadata": {},
   "outputs": [],
   "source": [
    "#Block Matching By Hadi Abdelmawla"
   ]
  },
  {
   "cell_type": "code",
   "execution_count": 4,
   "metadata": {},
   "outputs": [],
   "source": [
    "import numpy as np\n",
    "import argparse\n",
    "import cv2\n",
    "\n",
    "import matplotlib.pyplot as plt\n",
    "\n",
    "import tensorflow as tf"
   ]
  },
  {
   "cell_type": "code",
   "execution_count": 5,
   "metadata": {},
   "outputs": [],
   "source": [
    "imageTable = np.array([[178,228,14,164,246,210,82,79,14,157,230,154,145,204,28,178],\n",
    "                       [239,104,202,194,64,21,225,182,255,50,100,215,75,177,118,239],\n",
    "                       [216,155,78,195,38,3,105,101,92,172,179,24,21,43,172,216],\n",
    "                       [110,99,189,54,187,86,29,167,32,140,91,189,10,46,123,110],\n",
    "                       [28,172,166,157,34,35,18,118,74,241,119,88,146,92,212,28],\n",
    "                       [61,97,165,129,222,93,223,56,57,215,155,242,102,121,249,61],\n",
    "                       [149,69,22,220,77,146,47,68,232,203,16,221,150,65,225,149],\n",
    "                       [135,100,192,110,174,131,41,248,141,124,19,178,180,201,51,135],\n",
    "                       [251,117,102,31,57,161,146,123,244,161,61,51,41,33,158,251],\n",
    "                       [47,235,136,252,186,65,145,138,159,228,169,195,66,244,56,47],\n",
    "                       [165,63,194,127,53,79,3,21,85,8,185,41,212,141,38,165],\n",
    "                       [20,249,177,38,50,227,156,144,49,41,230,245,49,245,253,20],\n",
    "                       [195,121,21,95,197,243,116,230,235,4,86,204,191,148,150,195],\n",
    "                       [224,26,207,78,12,95,189,67,105,72,212,215,245,249,60,224],\n",
    "                       [5,8,7,98,233,176,124,251,220,129,82,236,222,137,7,5],\n",
    "                       [178,228,14,164,246,210,82,79,14,157,230,154,145,204,28,178]])\n",
    "\n",
    "searchTemplate = np.array([[123, 250,185],[170,24,20], [117,102,31]] )\n"
   ]
  },
  {
   "cell_type": "code",
   "execution_count": 133,
   "metadata": {},
   "outputs": [],
   "source": [
    "#code for part a\n",
    "def fullsearch(xrange,yrange,w,imageTable, squaresize):\n",
    "    w = np.zeros((15,15))\n",
    "    x=0\n",
    "    z=0\n",
    "    for (i) in range (xrange[0],xrange[1]):\n",
    "        #print(i)\n",
    "        for j in range (yrange[0],yrange[1]):\n",
    "         #   print (j)\n",
    "        #print(i)\n",
    "            w[i][j] = imageTable[i][j]\n",
    "            z=z+1\n",
    "            if (z==squaresize):\n",
    "                z=0\n",
    "        x=x+1\n",
    "    maxvalue = np.amax(w)\n",
    "    index = np.where(w == np.amax(w))\n",
    "    return maxvalue, index"
   ]
  },
  {
   "cell_type": "code",
   "execution_count": 135,
   "metadata": {},
   "outputs": [
    {
     "name": "stdout",
     "output_type": "stream",
     "text": [
      "1\n",
      "2\n",
      "3\n",
      "4\n",
      "{0: 246.0, 1: 255.0, 2: 252.0, 3: 249.0}\n",
      "{0: (array([0]), array([4])), 1: (array([1]), array([8])), 2: (array([9]), array([3])), 3: (array([13]), array([13]))}\n"
     ]
    }
   ],
   "source": [
    "#calling the part a function\n",
    "xrange = [0,7]\n",
    "yrange = [0,7]\n",
    "default = [0,7]\n",
    "shape = imageTable.shape\n",
    "\n",
    "square = 7\n",
    "v = 0\n",
    "partAmax = dict()\n",
    "partAindext = dict()\n",
    "for i in shape:\n",
    "    if xrange[1]< shape[0]:\n",
    "        for j in shape:\n",
    "            if yrange[1]<shape[1]:\n",
    "\n",
    "                partAmax[v], partAindext[v] = fullsearch(xrange,yrange, w, imageTable,square)\n",
    "                #print(v)\n",
    "                v=v+1\n",
    "                print(v)                \n",
    "                yrange = [yrange[0]+square, yrange[1]+square]\n",
    "                #print(yrange)\n",
    "        if yrange[1]>shape[1]:\n",
    "            yrange = default\n",
    "        xrange =[xrange[0]+square, xrange[1]+square]\n",
    "\n",
    "\n",
    "\n",
    "\n",
    "print(partAmax)\n",
    "print(partAindext)"
   ]
  },
  {
   "cell_type": "code",
   "execution_count": 154,
   "metadata": {},
   "outputs": [],
   "source": [
    "#function used for the rest of the parts\n",
    "def threess(xrange,yrange,imageTable,squaresize,testarray):\n",
    "    w = np.zeros((15,15))\n",
    "    x=0\n",
    "    z=0\n",
    "    for (i) in range (xrange[0],xrange[1]):\n",
    "        #print(i)\n",
    "        for j in range (yrange[0],yrange[1]):\n",
    "         #   print (j)\n",
    "        #print(i)\n",
    "            if(i>(squaresize)):\n",
    "                x = i-7\n",
    "            if(j>(squaresize)):\n",
    "                z = j-7\n",
    "            if(testarray[x][z]==0):\n",
    "                continue\n",
    "            w[i][j] = imageTable[i][j]\n",
    "            \n",
    "            #z=z+1\n",
    "            #if (z==squaresize):\n",
    "             #   z=0\n",
    "        #x=x+1\n",
    "    maxvalue = np.amax(w)\n",
    "    index = np.where(w == np.amax(w))\n",
    "    return maxvalue, index"
   ]
  },
  {
   "cell_type": "code",
   "execution_count": 155,
   "metadata": {},
   "outputs": [
    {
     "name": "stdout",
     "output_type": "stream",
     "text": [
      "1\n",
      "2\n",
      "3\n",
      "4\n",
      "{0: (array([0]), array([4])), 1: (array([0]), array([10])), 2: (array([13]), array([0])), 3: (array([13]), array([13]))}\n",
      "{0: 246.0, 1: 230.0, 2: 224.0, 3: 249.0}\n"
     ]
    }
   ],
   "source": [
    "#Creating the arrays neccessary for part B code is self explanatory\n",
    "array = np.zeros((7,7))\n",
    "array[0,0]=1\n",
    "array[0,3] = 1\n",
    "array[0,6] = 1\n",
    "array[3,0] = 1\n",
    "array[6,0] = 1\n",
    "array[3,3] = 1\n",
    "array[6,3] = 1\n",
    "array[6,6] = 1\n",
    "xrange = [0,7]\n",
    "yrange = [0,7]\n",
    "default = [0,7]\n",
    "shape = imageTable.shape\n",
    "\n",
    "square = 7\n",
    "v = 0\n",
    "partBmaxone = dict()\n",
    "partBindexone = dict()\n",
    "for i in shape:\n",
    "    if xrange[1]< shape[0]:\n",
    "        for j in shape:\n",
    "            if yrange[1]<shape[1]:\n",
    "                partBmaxone[v], partBindexone[v] = threess(xrange,yrange,imageTable,square,array)\n",
    "                #print(v)\n",
    "                v=v+1\n",
    "                print(v)                \n",
    "                yrange = [yrange[0]+square, yrange[1]+square]\n",
    "                #print(yrange)\n",
    "        if yrange[1]>shape[1]:\n",
    "            yrange = default\n",
    "        xrange =[xrange[0]+square, xrange[1]+square]\n",
    "print(partBindexone)\n",
    "print(partBmaxone)"
   ]
  },
  {
   "cell_type": "code",
   "execution_count": 158,
   "metadata": {},
   "outputs": [
    {
     "name": "stdout",
     "output_type": "stream",
     "text": [
      "1\n",
      "2\n",
      "3\n",
      "4\n",
      "{0: (array([0]), array([4])), 1: (array([4]), array([9])), 2: (array([9]), array([3])), 3: (array([7]), array([7]))}\n",
      "{0: 246.0, 1: 241.0, 2: 252.0, 3: 248.0}\n"
     ]
    }
   ],
   "source": [
    "#code for part B stage 2\n",
    "twoarray =  np.zeros((5,5))\n",
    "twoarray[0,0] = 1\n",
    "twoarray[2,0]=1\n",
    "twoarray[4,0]=1\n",
    "twoarray[0,2]=1\n",
    "twoarray[2,2]=1\n",
    "twoarray[4,2]=1\n",
    "twoarray[0,4]=1\n",
    "twoarray[2,4]=1\n",
    "twoarray[4,4]=1\n",
    "xrange = [0,5]\n",
    "yrange = [0,5]\n",
    "default = [0,5]\n",
    "v = 0\n",
    "partBmaxtwo = dict()\n",
    "partBindextwo = dict()\n",
    "for i in shape:\n",
    "    if xrange[1]< shape[0]:\n",
    "        for j in shape:\n",
    "            if yrange[1]<shape[1]:\n",
    "                partBmaxtwo[v], partBindextwo[v] = threess(xrange,yrange,imageTable,square,twoarray)\n",
    "                #print(v)\n",
    "                v=v+1\n",
    "                print(v)                \n",
    "                yrange = [yrange[0]+square, yrange[1]+square]\n",
    "                #print(yrange)\n",
    "        if yrange[1]>shape[1]:\n",
    "            yrange = default\n",
    "        xrange =[xrange[0]+square, xrange[1]+square]\n",
    "print(partBindextwo)\n",
    "print(partBmaxtwo)"
   ]
  },
  {
   "cell_type": "code",
   "execution_count": 159,
   "metadata": {},
   "outputs": [
    {
     "name": "stdout",
     "output_type": "stream",
     "text": [
      "1\n",
      "2\n",
      "3\n",
      "4\n",
      "{0: (array([1]), array([0])), 1: (array([1]), array([8])), 2: (array([8]), array([0])), 3: (array([7]), array([7]))}\n",
      "{0: 239.0, 1: 255.0, 2: 251.0, 3: 248.0}\n"
     ]
    }
   ],
   "source": [
    "#code for part B stage 3\n",
    "thirdarray = np.ones((3,3))\n",
    "xrange = [0,3]\n",
    "yrange = [0,3]\n",
    "default = [0,3]\n",
    "v = 0\n",
    "partBmaxthree = dict()\n",
    "partBindexthree = dict()\n",
    "for i in shape:\n",
    "    if xrange[1]< shape[0]:\n",
    "        for j in shape:\n",
    "            if yrange[1]<shape[1]:\n",
    "                partBmaxthree[v], partBindexthree[v] = threess(xrange,yrange,imageTable,square,thirdarray)\n",
    "                #print(v)\n",
    "                v=v+1\n",
    "                print(v)                \n",
    "                yrange = [yrange[0]+square, yrange[1]+square]\n",
    "                #print(yrange)\n",
    "        if yrange[1]>shape[1]:\n",
    "            yrange = default\n",
    "        xrange =[xrange[0]+square, xrange[1]+square]\n",
    "print(partBindexthree)\n",
    "print(partBmaxthree)"
   ]
  },
  {
   "cell_type": "code",
   "execution_count": 161,
   "metadata": {},
   "outputs": [
    {
     "name": "stdout",
     "output_type": "stream",
     "text": [
      "(array([9]), array([9]))\n",
      "228.0\n"
     ]
    }
   ],
   "source": [
    "#code for part C stage 1\n",
    "xrange = [5,11]\n",
    "yrange = [5,11]\n",
    "partCmaxone = dict\n",
    "partCindexone = dict\n",
    "partCmaxone, partCindexone = threess(xrange,yrange,imageTable,square,twoarray)\n",
    "print(partCindexone)\n",
    "print(partCmaxone)"
   ]
  },
  {
   "cell_type": "code",
   "execution_count": 162,
   "metadata": {},
   "outputs": [
    {
     "name": "stdout",
     "output_type": "stream",
     "text": [
      "(array([9]), array([9]))\n",
      "228.0\n"
     ]
    }
   ],
   "source": [
    "#code for part C stage 4 since the other stages are repeat of the above\n",
    "partCarray = np.zeros((5,5))\n",
    "partCarray[1,1]=1\n",
    "partCarray[1,2]=1\n",
    "partCarray[1,3]=1\n",
    "partCarray[2,1]=1\n",
    "partCarray[2,2]=1\n",
    "partCarray[2,3]=1\n",
    "partCarray[3,1]=1\n",
    "partCarray[3,2]=1\n",
    "partCarray[3,3]=1\n",
    "xrange = [5,11]\n",
    "yrange = [5,11]\n",
    "partCmaxthree = dict\n",
    "partCindexthree = dict\n",
    "partCmaxthree, partCindexthree = threess(xrange,yrange,imageTable,square,twoarray)\n",
    "print(partCindexthree)\n",
    "print(partCmaxthree)"
   ]
  },
  {
   "cell_type": "code",
   "execution_count": 187,
   "metadata": {},
   "outputs": [
    {
     "name": "stdout",
     "output_type": "stream",
     "text": [
      "[[0 0 1 0 0]\n",
      " [0 1 0 1 0]\n",
      " [1 0 1 0 1]\n",
      " [0 1 0 1 0]\n",
      " [0 0 1 0 0]]\n",
      "(array([8]), array([8]))\n",
      "244.0\n"
     ]
    }
   ],
   "source": [
    "#code used from online github diamond array\n",
    "#code for part E stage 1\n",
    "N       = 5\n",
    "H       = abs(np.arange(1-N,N+1,2))//2\n",
    "V       = H[0] - H[:,None]\n",
    "diamond = (H==V)*1\n",
    "diamond[2,2]=1\n",
    "print(diamond)\n",
    "xrange = [5,11]\n",
    "yrange = [5,11]\n",
    "partEmaxone = dict\n",
    "partEindexone = dict\n",
    "partEmaxone, partEindexone = threess(xrange,yrange,imageTable,square,diamond)\n",
    "print(partEindexone)\n",
    "print(partEmaxone)"
   ]
  },
  {
   "cell_type": "code",
   "execution_count": 188,
   "metadata": {},
   "outputs": [
    {
     "name": "stdout",
     "output_type": "stream",
     "text": [
      "(array([8]), array([8]))\n",
      "244.0\n"
     ]
    }
   ],
   "source": [
    "#code for stage 2\n",
    "f = [partEindexone[0]-3,partEindexone[1]+3]\n",
    "h = int(f[0])\n",
    "g = int(f[1])\n",
    "xrange = [h,g]\n",
    "yrange = [h,g]\n",
    "partEmaxtwo = dict\n",
    "partEindextwo = dict\n",
    "partEmaxtwo, partEindextwo = threess(xrange,yrange,imageTable,square,diamond)\n",
    "print(partEindextwo)\n",
    "print(partEmaxtwo)"
   ]
  },
  {
   "cell_type": "code",
   "execution_count": 189,
   "metadata": {},
   "outputs": [
    {
     "name": "stdout",
     "output_type": "stream",
     "text": [
      "(array([8]), array([8]))\n",
      "244.0\n"
     ]
    }
   ],
   "source": [
    "#code for stage 3\n",
    "f = [partEindextwo[0]-3,partEindextwo[1]+3]\n",
    "h = int(f[0])\n",
    "g = int(f[1])\n",
    "xrange = [h,g]\n",
    "yrange = [h,g]\n",
    "partEmaxthree = dict\n",
    "partEindexthree = dict\n",
    "partEmaxthree, partEindexthree = threess(xrange,yrange,imageTable,square,diamond)\n",
    "print(partEindexthree)\n",
    "print(partEmaxthree)"
   ]
  },
  {
   "cell_type": "code",
   "execution_count": 190,
   "metadata": {},
   "outputs": [
    {
     "name": "stdout",
     "output_type": "stream",
     "text": [
      "(array([9]), array([9]))\n",
      "228.0\n"
     ]
    }
   ],
   "source": [
    "#code for stage 4\n",
    "partearray = np.zeros((5,5))\n",
    "partearray[1,2]=1\n",
    "partearray[2,1]=1\n",
    "partearray[2,2]=1\n",
    "partearray[2,3]=1\n",
    "partearray[3,2]=1\n",
    "f = [partEindexthree[0]-3,partEindextwo[1]+3]\n",
    "h = int(f[0])\n",
    "g = int(f[1])\n",
    "xrange = [h,g]\n",
    "yrange = [h,g]\n",
    "partEmaxfour = dict\n",
    "partEindexfour = dict\n",
    "partEmaxfour, partEindexfour = threess(xrange,yrange,imageTable,square,partearray)\n",
    "print(partEindexfour)\n",
    "print(partEmaxfour)\n"
   ]
  },
  {
   "cell_type": "code",
   "execution_count": 191,
   "metadata": {},
   "outputs": [
    {
     "name": "stdout",
     "output_type": "stream",
     "text": [
      "(array([7]), array([7]))\n",
      "248.0\n"
     ]
    }
   ],
   "source": [
    "#code for stage 1 part D \n",
    "partdarray = np.zeros((5,5))\n",
    "partdarray[0,1]=1\n",
    "partdarray[0,3]=1\n",
    "partdarray[2,0]=1\n",
    "partdarray[2,2]=1\n",
    "partdarray[2,4]=1\n",
    "partdarray[4,1]=1\n",
    "partdarray[4,3]=1\n",
    "xrange = [5,11]\n",
    "yrange = [5,11]\n",
    "partDmaxone = dict\n",
    "partDindexone = dict\n",
    "partDmaxone, partDindexone = threess(xrange,yrange,imageTable,square,partdarray)\n",
    "print(partDindexone)\n",
    "print(partDmaxone)"
   ]
  },
  {
   "cell_type": "code",
   "execution_count": 192,
   "metadata": {},
   "outputs": [
    {
     "name": "stdout",
     "output_type": "stream",
     "text": [
      "(array([6]), array([8]))\n",
      "232.0\n"
     ]
    }
   ],
   "source": [
    "#code for stage 2\n",
    "f = [partDindexone[0]-3,partDindexone[1]+3]\n",
    "h = int(f[0])\n",
    "g = int(f[1])\n",
    "xrange = [h,g]\n",
    "yrange = [h,g]\n",
    "partDmaxtwo = dict\n",
    "partDindextwo = dict\n",
    "partDmaxtwo, partDindextwo = threess(xrange,yrange,imageTable,square,partdarray)\n",
    "print(partDindextwo)\n",
    "print(partDmaxtwo)"
   ]
  },
  {
   "cell_type": "code",
   "execution_count": 193,
   "metadata": {},
   "outputs": [
    {
     "name": "stdout",
     "output_type": "stream",
     "text": [
      "(array([7]), array([7]))\n",
      "248.0\n"
     ]
    }
   ],
   "source": [
    "#stage 3\n",
    "f = [partDindextwo[0]-3,partDindextwo[1]+3]\n",
    "h = int(f[0])\n",
    "g = int(f[1])\n",
    "xrange = [h,g]\n",
    "yrange = [h,g]\n",
    "partDmaxthree = dict\n",
    "partDindexthree = dict\n",
    "partDmaxthree, partDindexthree = threess(xrange,yrange,imageTable,square,partdarray)\n",
    "print(partDindexthree)\n",
    "print(partDmaxthree)"
   ]
  },
  {
   "cell_type": "code",
   "execution_count": 194,
   "metadata": {},
   "outputs": [
    {
     "name": "stdout",
     "output_type": "stream",
     "text": [
      "(array([9]), array([9]))\n",
      "228.0\n"
     ]
    }
   ],
   "source": [
    "#stage 4\n",
    "f = [partDindexthree[0]-3,partDindextwo[1]+3]\n",
    "h = int(f[0])\n",
    "g = int(f[1])\n",
    "xrange = [h,g]\n",
    "yrange = [h,g]\n",
    "partDmaxfour = dict\n",
    "partDindexfour = dict\n",
    "partDmaxfour, partDindexfour = threess(xrange,yrange,imageTable,square,partearray)\n",
    "print(partDindexfour)\n",
    "print(partDmaxfour)"
   ]
  }
 ],
 "metadata": {
  "kernelspec": {
   "display_name": "Python 3",
   "language": "python",
   "name": "python3"
  },
  "language_info": {
   "codemirror_mode": {
    "name": "ipython",
    "version": 3
   },
   "file_extension": ".py",
   "mimetype": "text/x-python",
   "name": "python",
   "nbconvert_exporter": "python",
   "pygments_lexer": "ipython3",
   "version": "3.8.6"
  }
 },
 "nbformat": 4,
 "nbformat_minor": 4
}
